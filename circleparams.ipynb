{
 "cells": [
  {
   "cell_type": "code",
   "execution_count": 44,
   "metadata": {},
   "outputs": [],
   "source": [
    "# Because we discussed predicting circles I wanted to try it...\n",
    "# also works good :) exciting... ._."
   ]
  },
  {
   "cell_type": "code",
   "execution_count": null,
   "metadata": {},
   "outputs": [],
   "source": [
    "import os\n",
    "import numpy as np\n",
    "import pandas as pd\n",
    "from trackml.dataset import load_event\n",
    "from trackml.randomize import shuffle_hits\n",
    "from trackml.score import score_event\n",
    "from mpl_toolkits.mplot3d import Axes3D\n",
    "import seaborn as sns\n",
    "import matplotlib.pyplot as plt\n",
    "from hough import *\n",
    "from conformalMap import *\n",
    "import keras\n",
    "from keras.models import Sequential\n",
    "from keras.layers import Dense\n",
    "from keras import layers\n",
    "import tensorflow as tf\n",
    "\n",
    "%matplotlib inline"
   ]
  },
  {
   "cell_type": "code",
   "execution_count": 99,
   "metadata": {},
   "outputs": [
    {
     "data": {
      "image/png": "[encoded data removed]",
      "text/plain": [
       "<Figure size 288x288 with 1 Axes>"
      ]
     },
     "metadata": {
      "needs_background": "light"
     },
     "output_type": "display_data"
    },
    {
     "name": "stdout",
     "output_type": "stream",
     "text": [
      "[0.89848499407624]\n"
     ]
    }
   ],
   "source": [
    "import random\n",
    "import math\n",
    "train_X = []\n",
    "train_Y = []\n",
    "dims = 150\n",
    "k = dims // 2\n",
    "N = 200\n",
    "for i in range(N):\n",
    "    r = random.uniform(0, 1)\n",
    "    train_Y.append([r])\n",
    "    image = np.zeros((dims, dims))\n",
    "    for theta in np.linspace(0, 2 * math.pi):\n",
    "        x = (r * math.cos(theta) * k + k)\n",
    "        y = (r * math.sin(theta) * k + k)\n",
    "#        print(x, y)\n",
    "        image[int(x), int(y)] = 1\n",
    "    train_X.append(image)\n",
    "\n",
    "plt.matshow(train_X[6])\n",
    "plt.show()\n",
    "print(train_Y[6])\n",
    "train_X = np.reshape(train_X, (N, dims, dims, 1))\n",
    "train_Y = np.reshape(train_Y, (N, 1))"
   ]
  },
  {
   "cell_type": "code",
   "execution_count": 100,
   "metadata": {},
   "outputs": [],
   "source": [
    "def build_model():\n",
    "  model = keras.Sequential([\n",
    "    layers.Conv2D(8, (3, 3), activation=\"relu\", input_shape=(dims, dims, 1)),\n",
    "    layers.Conv2D(8, (3, 3), activation=\"relu\"),\n",
    "    layers.MaxPooling2D(pool_size=(2, 2)),\n",
    "    layers.Conv2D(16, (3, 3), activation=\"relu\"),\n",
    "    layers.Conv2D(16, (3, 3), activation=\"relu\"),\n",
    "    layers.Flatten(),\n",
    "    layers.Dense(1)\n",
    "  ])\n",
    "\n",
    "  #optimizer = keras.optimizers.RMSprop(learning_rate=0.00001) #0.00001 works good\n",
    "  model.compile(loss='mse', optimizer='adam')\n",
    "  return model"
   ]
  },
  {
   "cell_type": "code",
   "execution_count": 101,
   "metadata": {},
   "outputs": [
    {
     "name": "stdout",
     "output_type": "stream",
     "text": [
      "_________________________________________________________________\n",
      "Layer (type)                 Output Shape              Param #   \n",
      "=================================================================\n",
      "conv2d_21 (Conv2D)           (None, 148, 148, 8)       80        \n",
      "_________________________________________________________________\n",
      "conv2d_22 (Conv2D)           (None, 146, 146, 8)       584       \n",
      "_________________________________________________________________\n",
      "max_pooling2d_6 (MaxPooling2 (None, 73, 73, 8)         0         \n",
      "_________________________________________________________________\n",
      "conv2d_23 (Conv2D)           (None, 71, 71, 16)        1168      \n",
      "_________________________________________________________________\n",
      "conv2d_24 (Conv2D)           (None, 69, 69, 16)        2320      \n",
      "_________________________________________________________________\n",
      "flatten_6 (Flatten)          (None, 76176)             0         \n",
      "_________________________________________________________________\n",
      "dense_6 (Dense)              (None, 1)                 76177     \n",
      "=================================================================\n",
      "Total params: 80,329\n",
      "Trainable params: 80,329\n",
      "Non-trainable params: 0\n",
      "_________________________________________________________________\n"
     ]
    }
   ],
   "source": [
    "model = build_model()\n",
    "model.summary()"
   ]
  },
  {
   "cell_type": "code",
   "execution_count": 102,
   "metadata": {},
   "outputs": [
    {
     "name": "stdout",
     "output_type": "stream",
     "text": [
      "(200, 150, 150, 1)\n",
      "(200, 1)\n",
      "Train on 180 samples, validate on 20 samples\n",
      "Epoch 1/1\n",
      "180/180 [==============================] - 3s 15ms/step - loss: 0.1848 - val_loss: 0.0612\n"
     ]
    }
   ],
   "source": [
    "EPOCHS = 1\n",
    "print(train_X.shape)\n",
    "print(train_Y.shape)\n",
    "history = model.fit(train_X, train_Y, validation_split=0.1, epochs=EPOCHS)"
   ]
  },
  {
   "cell_type": "code",
   "execution_count": 106,
   "metadata": {},
   "outputs": [
    {
     "name": "stdout",
     "output_type": "stream",
     "text": [
      "[[0.44848955]]\n"
     ]
    }
   ],
   "source": [
    "r = random.uniform(0, 1)\n",
    "image = np.zeros((dims, dims))\n",
    "for theta in np.linspace(0, 2 * math.pi):\n",
    "    x = (r * math.cos(theta) * k + k)\n",
    "    y = (r * math.sin(theta) * k + k)\n",
    "    image[int(x), int(y)] = 1\n",
    "    \n",
    "predicted_params = model.predict(np.array([np.reshape(image, (dims, dims, 1))]))\n",
    "print(predicted_params)"
   ]
  },
  {
   "cell_type": "markdown",
   "metadata": {},
   "source": [
    "## real circle"
   ]
  },
  {
   "cell_type": "code",
   "execution_count": 107,
   "metadata": {},
   "outputs": [
    {
     "data": {
      "image/png": "[encoded data removed]",
      "text/plain": [
       "<Figure size 288x288 with 1 Axes>"
      ]
     },
     "metadata": {
      "needs_background": "light"
     },
     "output_type": "display_data"
    }
   ],
   "source": [
    "plt.matshow(image)\n",
    "plt.show()"
   ]
  },
  {
   "cell_type": "markdown",
   "metadata": {},
   "source": [
    "## predicted circle"
   ]
  },
  {
   "cell_type": "code",
   "execution_count": 108,
   "metadata": {},
   "outputs": [
    {
     "data": {
      "image/png": "[encoded data removed]",
      "text/plain": [
       "<Figure size 288x288 with 1 Axes>"
      ]
     },
     "metadata": {
      "needs_background": "light"
     },
     "output_type": "display_data"
    }
   ],
   "source": [
    "predicted_image = np.zeros((dims, dims))\n",
    "for theta in np.linspace(0, 2 * math.pi):\n",
    "    x = (r * math.cos(theta) * k + k)\n",
    "    y = (r * math.sin(theta) * k + k)\n",
    "    predicted_image[int(x), int(y)] = 1\n",
    "plt.matshow(predicted_image)\n",
    "plt.show()"
   ]
  },
  {
   "cell_type": "code",
   "execution_count": null,
   "metadata": {},
   "outputs": [],
   "source": []
  }
 ],
 "metadata": {
  "kernelspec": {
   "display_name": "Python 3",
   "language": "python",
   "name": "python3"
  },
  "language_info": {
   "codemirror_mode": {
    "name": "ipython",
    "version": 3
   },
   "file_extension": ".py",
   "mimetype": "text/x-python",
   "name": "python",
   "nbconvert_exporter": "python",
   "pygments_lexer": "ipython3",
   "version": "3.7.5"
  }
 },
 "nbformat": 4,
 "nbformat_minor": 2
}
