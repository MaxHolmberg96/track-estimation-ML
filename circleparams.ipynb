{
 "cells": [
  {
   "cell_type": "code",
   "execution_count": 1,
   "metadata": {},
   "outputs": [],
   "source": [
    "# Because we discussed predicting circles I wanted to try it...\n",
    "# also works good :) exciting... ._."
   ]
  },
  {
   "cell_type": "code",
   "execution_count": 1,
   "metadata": {},
   "outputs": [
    {
     "name": "stderr",
     "output_type": "stream",
     "text": [
      "Using TensorFlow backend.\n"
     ]
    }
   ],
   "source": [
    "import os\n",
    "import numpy as np\n",
    "import pandas as pd\n",
    "from trackml.dataset import load_event\n",
    "from trackml.randomize import shuffle_hits\n",
    "from trackml.score import score_event\n",
    "from mpl_toolkits.mplot3d import Axes3D\n",
    "import seaborn as sns\n",
    "import matplotlib.pyplot as plt\n",
    "from hough import *\n",
    "from conformal_map import *\n",
    "import keras\n",
    "from keras.models import Sequential\n",
    "from keras.layers import Dense\n",
    "from keras import layers\n",
    "%matplotlib inline"
   ]
  },
  {
   "cell_type": "code",
   "execution_count": 2,
   "metadata": {},
   "outputs": [
    {
     "data": {
      "image/png": "[encoded data removed]",
      "text/plain": [
       "<Figure size 288x288 with 1 Axes>"
      ]
     },
     "metadata": {
      "needs_background": "light"
     },
     "output_type": "display_data"
    },
    {
     "name": "stdout",
     "output_type": "stream",
     "text": [
      "[0.42178068906732535]\n"
     ]
    }
   ],
   "source": [
    "import random\n",
    "import math\n",
    "train_X = []\n",
    "train_Y = []\n",
    "dims = 100\n",
    "k = dims // 2\n",
    "N = 8000\n",
    "for i in range(N):\n",
    "    r = random.uniform(0, 1)\n",
    "    train_Y.append([r])\n",
    "    image = np.zeros((dims, dims))\n",
    "    for theta in np.linspace(0, 2 * math.pi):\n",
    "        x = (r * math.cos(theta) * k + k)\n",
    "        y = (r * math.sin(theta) * k + k)\n",
    "#        print(x, y)\n",
    "        image[int(x), int(y)] = 1\n",
    "    train_X.append(image)\n",
    "\n",
    "plt.matshow(train_X[6])\n",
    "plt.show()\n",
    "print(train_Y[6])\n",
    "train_X = np.reshape(train_X, (N, dims, dims, 1))\n",
    "train_Y = np.reshape(train_Y, (N, 1))"
   ]
  },
  {
   "cell_type": "code",
   "execution_count": 3,
   "metadata": {},
   "outputs": [],
   "source": [
    "def build_model():\n",
    "  model = keras.Sequential([\n",
    "    layers.Conv2D(8, (3, 3), activation=\"relu\", input_shape=(dims, dims, 1)),\n",
    "    #layers.Conv2D(8, (3, 3), activation=\"relu\"),\n",
    "    layers.MaxPooling2D(pool_size=(2, 2)),\n",
    "    #layers.Conv2D(16, (3, 3), activation=\"relu\"),\n",
    "    layers.Conv2D(16, (3, 3), activation=\"relu\"),\n",
    "    layers.Flatten(),\n",
    "    layers.Dense(1)\n",
    "  ])\n",
    "\n",
    "  #optimizer = keras.optimizers.RMSprop(learning_rate=0.00001) #0.00001 works good\n",
    "  model.compile(loss='mse', optimizer='adam')\n",
    "  return model"
   ]
  },
  {
   "cell_type": "code",
   "execution_count": 4,
   "metadata": {},
   "outputs": [
    {
     "name": "stdout",
     "output_type": "stream",
     "text": [
      "Model: \"sequential_1\"\n",
      "_________________________________________________________________\n",
      "Layer (type)                 Output Shape              Param #   \n",
      "=================================================================\n",
      "conv2d_1 (Conv2D)            (None, 98, 98, 8)         80        \n",
      "_________________________________________________________________\n",
      "max_pooling2d_1 (MaxPooling2 (None, 49, 49, 8)         0         \n",
      "_________________________________________________________________\n",
      "conv2d_2 (Conv2D)            (None, 47, 47, 16)        1168      \n",
      "_________________________________________________________________\n",
      "flatten_1 (Flatten)          (None, 35344)             0         \n",
      "_________________________________________________________________\n",
      "dense_1 (Dense)              (None, 1)                 35345     \n",
      "=================================================================\n",
      "Total params: 36,593\n",
      "Trainable params: 36,593\n",
      "Non-trainable params: 0\n",
      "_________________________________________________________________\n"
     ]
    }
   ],
   "source": [
    "model = build_model()\n",
    "model.summary()"
   ]
  },
  {
   "cell_type": "code",
   "execution_count": 5,
   "metadata": {},
   "outputs": [
    {
     "name": "stdout",
     "output_type": "stream",
     "text": [
      "(8000, 100, 100, 1)\n",
      "(8000, 1)\n",
      "Train on 7200 samples, validate on 800 samples\n",
      "Epoch 1/1\n",
      "7200/7200 [==============================] - 9s 1ms/step - loss: 0.0051 - val_loss: 3.2060e-05\n"
     ]
    }
   ],
   "source": [
    "EPOCHS = 1\n",
    "print(train_X.shape)\n",
    "print(train_Y.shape)\n",
    "history = model.fit(train_X, train_Y, validation_split=0.1, epochs=EPOCHS)"
   ]
  },
  {
   "cell_type": "code",
   "execution_count": 6,
   "metadata": {},
   "outputs": [
    {
     "name": "stdout",
     "output_type": "stream",
     "text": [
      "Real radius:  0.3190338953943316\n"
     ]
    }
   ],
   "source": [
    "r = random.uniform(0, 1)\n",
    "image = np.zeros((dims, dims))\n",
    "for theta in np.linspace(0, 2 * math.pi):\n",
    "    x = (r * math.cos(theta) * k + k)\n",
    "    y = (r * math.sin(theta) * k + k)\n",
    "    image[int(x), int(y)] = 1\n",
    "print(\"Real radius: \", r)\n",
    "predicted_params = model.predict(np.array([np.reshape(image, (dims, dims, 1))]))"
   ]
  },
  {
   "cell_type": "markdown",
   "metadata": {},
   "source": [
    "## real circle"
   ]
  },
  {
   "cell_type": "code",
   "execution_count": 7,
   "metadata": {},
   "outputs": [
    {
     "data": {
      "image/png": "[encoded data removed]",
      "text/plain": [
       "<Figure size 288x288 with 1 Axes>"
      ]
     },
     "metadata": {
      "needs_background": "light"
     },
     "output_type": "display_data"
    }
   ],
   "source": [
    "plt.matshow(image)\n",
    "plt.show()"
   ]
  },
  {
   "cell_type": "markdown",
   "metadata": {},
   "source": [
    "## predicted circle"
   ]
  },
  {
   "cell_type": "code",
   "execution_count": 8,
   "metadata": {},
   "outputs": [
    {
     "name": "stdout",
     "output_type": "stream",
     "text": [
      "Predicted radius 0.3173436\n"
     ]
    },
    {
     "data": {
      "image/png": "[encoded data removed]",
      "text/plain": [
       "<Figure size 288x288 with 1 Axes>"
      ]
     },
     "metadata": {
      "needs_background": "light"
     },
     "output_type": "display_data"
    }
   ],
   "source": [
    "predicted_image = np.zeros((dims, dims))\n",
    "r = predicted_params[0][0]\n",
    "print(\"Predicted radius\", r)\n",
    "for theta in np.linspace(0, 2 * math.pi):\n",
    "    x = (r * math.cos(theta) * k + k)\n",
    "    y = (r * math.sin(theta) * k + k)\n",
    "    predicted_image[int(x), int(y)] = 1\n",
    "plt.matshow(predicted_image)\n",
    "plt.show()"
   ]
  },
  {
   "cell_type": "code",
   "execution_count": null,
   "metadata": {},
   "outputs": [],
   "source": []
  },
  {
   "cell_type": "code",
   "execution_count": null,
   "metadata": {},
   "outputs": [],
   "source": []
  }
 ],
 "metadata": {
  "kernelspec": {
   "display_name": "Python 3",
   "language": "python",
   "name": "python3"
  },
  "language_info": {
   "codemirror_mode": {
    "name": "ipython",
    "version": 3
   },
   "file_extension": ".py",
   "mimetype": "text/x-python",
   "name": "python",
   "nbconvert_exporter": "python",
   "pygments_lexer": "ipython3",
   "version": "3.6.8"
  }
 },
 "nbformat": 4,
 "nbformat_minor": 2
}
