{
 "cells": [
  {
   "cell_type": "code",
   "execution_count": 1,
   "metadata": {},
   "outputs": [],
   "source": [
    "import os\n",
    "import numpy as np\n",
    "import pandas as pd\n",
    "from trackml.dataset import load_event\n",
    "from trackml.randomize import shuffle_hits\n",
    "from trackml.score import score_event\n",
    "from mpl_toolkits.mplot3d import Axes3D\n",
    "import seaborn as sns\n",
    "import matplotlib.pyplot as plt\n",
    "from hough import *\n",
    "from conformal_map import *\n",
    "from tqdm import tqdm\n",
    "\n",
    "%matplotlib inline"
   ]
  },
  {
   "cell_type": "code",
   "execution_count": null,
   "metadata": {},
   "outputs": [],
   "source": [
    "event_prefix = 'event000001000'\n",
    "hits, cells, particles, truth = load_event(os.path.join('train_100_events', event_prefix))\n",
    "cond = (hits['volume_id'] == 8) | (hits['volume_id'] == 13) | (hits['volume_id'] == 17)\n",
    "selected_indices = hits.index[cond].tolist()\n",
    "selected_hits = hits.iloc[selected_indices]\n",
    "selected_truth = truth.iloc[selected_indices]\n",
    "trackId = selected_truth.particle_id.unique()[505]\n",
    "track = selected_truth[selected_truth.particle_id == trackId]\n",
    "plt.figure(figsize=(10,10))\n",
    "ax = plt.axes()\n",
    "ax.plot(selected_hits.x, selected_hits.y, 'o')\n",
    "ax.plot(track.tx, track.ty, 'o')\n",
    "plt.show()"
   ]
  },
  {
   "cell_type": "code",
   "execution_count": 2,
   "metadata": {},
   "outputs": [],
   "source": [
    "data = np.load(\"train_set_29144_101_and_103_1500.npz\")\n",
    "train_X = data['X']\n",
    "train_y = data['y']\n",
    "train_y_mag = data['y_mag']\n",
    "\n",
    "data2 = np.load(\"train_set_28205_104_and_105_1500.npz\")\n",
    "train_X = np.vstack([train_X, data2['X']])\n",
    "train_y = np.vstack([train_y, data2['y']])\n",
    "train_y_mag = np.vstack([train_y_mag, data2['y_mag']])"
   ]
  },
  {
   "cell_type": "code",
   "execution_count": 15,
   "metadata": {},
   "outputs": [],
   "source": [
    "data3 = np.load(\"test_set_102_1500.npz\")\n",
    "test_X = data3['X_test']\n",
    "test_y_mag = data3['y_test_mag']\n",
    "test_y = data3['y_test']"
   ]
  },
  {
   "cell_type": "code",
   "execution_count": 16,
   "metadata": {},
   "outputs": [
    {
     "name": "stdout",
     "output_type": "stream",
     "text": [
      "(57349, 1500, 10, 1) (57349, 2) (57349, 1)\n",
      "(9716, 1500, 10, 1) (9716, 2) (9716, 1)\n"
     ]
    }
   ],
   "source": [
    "B = 1500\n",
    "print(train_X.shape, train_y.shape, train_y_mag.shape)\n",
    "print(test_X.shape, test_y.shape, test_y_mag.shape)"
   ]
  },
  {
   "cell_type": "code",
   "execution_count": 17,
   "metadata": {},
   "outputs": [
    {
     "data": {
      "text/plain": [
       "['/job:localhost/replica:0/task:0/device:GPU:0']"
      ]
     },
     "execution_count": 17,
     "metadata": {},
     "output_type": "execute_result"
    }
   ],
   "source": [
    "import keras\n",
    "from keras.models import Sequential\n",
    "from keras.layers import Dense\n",
    "from keras import layers\n",
    "from keras import backend as K\n",
    "from keras import regularizers\n",
    "K.tensorflow_backend._get_available_gpus()"
   ]
  },
  {
   "cell_type": "code",
   "execution_count": 7,
   "metadata": {},
   "outputs": [],
   "source": [
    "def build_model():\n",
    "    model = keras.Sequential([\n",
    "        layers.Conv2D(8, (3, 3), activation=\"relu\", input_shape=(B, 10, 1)),\n",
    "        layers.MaxPooling2D(pool_size=(2, 2)),\n",
    "        layers.Conv2D(16, (3, 3), activation=\"relu\"),\n",
    "        layers.Flatten(),\n",
    "        layers.Dense(10, activation=\"relu\"),\n",
    "        layers.Dense(1)\n",
    "    ])\n",
    "\n",
    "    #optimizer = keras.optimizers.RMSprop(learning_rate=0.00001) #0.00001 works good\n",
    "    model.compile(loss='mae', optimizer=\"adam\")\n",
    "    return model"
   ]
  },
  {
   "cell_type": "code",
   "execution_count": 8,
   "metadata": {},
   "outputs": [
    {
     "name": "stdout",
     "output_type": "stream",
     "text": [
      "WARNING:tensorflow:From c:\\python36\\lib\\site-packages\\keras\\backend\\tensorflow_backend.py:4070: The name tf.nn.max_pool is deprecated. Please use tf.nn.max_pool2d instead.\n",
      "\n",
      "Model: \"sequential_1\"\n",
      "_________________________________________________________________\n",
      "Layer (type)                 Output Shape              Param #   \n",
      "=================================================================\n",
      "conv2d_1 (Conv2D)            (None, 1498, 8, 8)        80        \n",
      "_________________________________________________________________\n",
      "max_pooling2d_1 (MaxPooling2 (None, 749, 4, 8)         0         \n",
      "_________________________________________________________________\n",
      "conv2d_2 (Conv2D)            (None, 747, 2, 16)        1168      \n",
      "_________________________________________________________________\n",
      "flatten_1 (Flatten)          (None, 23904)             0         \n",
      "_________________________________________________________________\n",
      "dense_1 (Dense)              (None, 10)                239050    \n",
      "_________________________________________________________________\n",
      "dense_2 (Dense)              (None, 1)                 11        \n",
      "=================================================================\n",
      "Total params: 240,309\n",
      "Trainable params: 240,309\n",
      "Non-trainable params: 0\n",
      "_________________________________________________________________\n"
     ]
    }
   ],
   "source": [
    "model = build_model()\n",
    "model.summary()"
   ]
  },
  {
   "cell_type": "code",
   "execution_count": 9,
   "metadata": {},
   "outputs": [
    {
     "name": "stdout",
     "output_type": "stream",
     "text": [
      "(57349, 1500, 10, 1)\n",
      "(57349, 2)\n",
      "WARNING:tensorflow:From c:\\python36\\lib\\site-packages\\keras\\backend\\tensorflow_backend.py:422: The name tf.global_variables is deprecated. Please use tf.compat.v1.global_variables instead.\n",
      "\n",
      "Train on 51614 samples, validate on 5735 samples\n",
      "Epoch 1/60\n",
      "51614/51614 [==============================] - 21s 406us/step - loss: 0.1249 - val_loss: 0.0721\n",
      "Epoch 2/60\n",
      "51614/51614 [==============================] - 20s 388us/step - loss: 0.0832 - val_loss: 0.0575\n",
      "Epoch 3/60\n",
      "51614/51614 [==============================] - 20s 382us/step - loss: 0.0706 - val_loss: 0.0489\n",
      "Epoch 4/60\n",
      "51614/51614 [==============================] - 19s 378us/step - loss: 0.0627 - val_loss: 0.0491\n",
      "Epoch 5/60\n",
      "51614/51614 [==============================] - 20s 379us/step - loss: 0.0578 - val_loss: 0.0444\n",
      "Epoch 6/60\n",
      "51614/51614 [==============================] - 20s 383us/step - loss: 0.0538 - val_loss: 0.0393\n",
      "Epoch 7/60\n",
      "51614/51614 [==============================] - 20s 380us/step - loss: 0.0500 - val_loss: 0.0382\n",
      "Epoch 8/60\n",
      "51614/51614 [==============================] - 20s 382us/step - loss: 0.0479 - val_loss: 0.0439\n",
      "Epoch 9/60\n",
      "51614/51614 [==============================] - 20s 380us/step - loss: 0.0452 - val_loss: 0.0399\n",
      "Epoch 10/60\n",
      "51614/51614 [==============================] - 20s 382us/step - loss: 0.0436 - val_loss: 0.0383\n",
      "Epoch 11/60\n",
      "51614/51614 [==============================] - 19s 378us/step - loss: 0.0435 - val_loss: 0.0375\n",
      "Epoch 12/60\n",
      "51614/51614 [==============================] - 19s 378us/step - loss: 0.0420 - val_loss: 0.0350\n",
      "Epoch 13/60\n",
      "51614/51614 [==============================] - 20s 384us/step - loss: 0.0406 - val_loss: 0.0363\n",
      "Epoch 14/60\n",
      "51614/51614 [==============================] - 20s 392us/step - loss: 0.0410 - val_loss: 0.0347\n",
      "Epoch 15/60\n",
      "51614/51614 [==============================] - 67s 1ms/step - loss: 0.0389 - val_loss: 0.0369\n",
      "Epoch 16/60\n",
      "51614/51614 [==============================] - 41s 803us/step - loss: 0.0386 - val_loss: 0.0334\n",
      "Epoch 17/60\n",
      "51614/51614 [==============================] - 21s 402us/step - loss: 0.0378 - val_loss: 0.0397\n",
      "Epoch 18/60\n",
      "51614/51614 [==============================] - 20s 390us/step - loss: 0.0370 - val_loss: 0.0340\n",
      "Epoch 19/60\n",
      "51614/51614 [==============================] - 21s 404us/step - loss: 0.0369 - val_loss: 0.0337\n",
      "Epoch 20/60\n",
      "51614/51614 [==============================] - 20s 388us/step - loss: 0.0368 - val_loss: 0.0350\n",
      "Epoch 21/60\n",
      "51614/51614 [==============================] - 20s 389us/step - loss: 0.0356 - val_loss: 0.0345\n",
      "Epoch 22/60\n",
      "51614/51614 [==============================] - 20s 395us/step - loss: 0.0358 - val_loss: 0.0345\n",
      "Epoch 23/60\n",
      "51614/51614 [==============================] - 20s 391us/step - loss: 0.0350 - val_loss: 0.0381\n",
      "Epoch 24/60\n",
      "51614/51614 [==============================] - 20s 391us/step - loss: 0.0351 - val_loss: 0.0340\n",
      "Epoch 25/60\n",
      "51614/51614 [==============================] - 20s 391us/step - loss: 0.0343 - val_loss: 0.0333\n",
      "Epoch 26/60\n",
      "51614/51614 [==============================] - 20s 392us/step - loss: 0.0343 - val_loss: 0.0343\n",
      "Epoch 27/60\n",
      "51614/51614 [==============================] - 20s 394us/step - loss: 0.0340 - val_loss: 0.0327\n",
      "Epoch 28/60\n",
      "51614/51614 [==============================] - 20s 391us/step - loss: 0.0343 - val_loss: 0.0394\n",
      "Epoch 29/60\n",
      "51614/51614 [==============================] - 20s 388us/step - loss: 0.0328 - val_loss: 0.0335\n",
      "Epoch 30/60\n",
      "51614/51614 [==============================] - 20s 393us/step - loss: 0.0330 - val_loss: 0.0351\n",
      "Epoch 31/60\n",
      "51614/51614 [==============================] - 21s 402us/step - loss: 0.0329 - val_loss: 0.0316\n",
      "Epoch 32/60\n",
      "51614/51614 [==============================] - 20s 392us/step - loss: 0.0324 - val_loss: 0.0316\n",
      "Epoch 33/60\n",
      "51614/51614 [==============================] - 20s 392us/step - loss: 0.0322 - val_loss: 0.0339\n",
      "Epoch 34/60\n",
      "51614/51614 [==============================] - 20s 389us/step - loss: 0.0320 - val_loss: 0.0388\n",
      "Epoch 35/60\n",
      "51614/51614 [==============================] - 20s 391us/step - loss: 0.0316 - val_loss: 0.0324\n",
      "Epoch 36/60\n",
      "51614/51614 [==============================] - 20s 393us/step - loss: 0.0316 - val_loss: 0.0338\n",
      "Epoch 37/60\n",
      "51614/51614 [==============================] - 20s 390us/step - loss: 0.0309 - val_loss: 0.0332\n",
      "Epoch 38/60\n",
      "51614/51614 [==============================] - 20s 388us/step - loss: 0.0313 - val_loss: 0.0326\n",
      "Epoch 39/60\n",
      "51614/51614 [==============================] - 20s 390us/step - loss: 0.0312 - val_loss: 0.0331\n",
      "Epoch 40/60\n",
      "51614/51614 [==============================] - 20s 392us/step - loss: 0.0307 - val_loss: 0.0332\n",
      "Epoch 41/60\n",
      "51614/51614 [==============================] - 20s 392us/step - loss: 0.0308 - val_loss: 0.0322\n",
      "Epoch 42/60\n",
      "51614/51614 [==============================] - 20s 394us/step - loss: 0.0304 - val_loss: 0.0318\n",
      "Epoch 43/60\n",
      "51614/51614 [==============================] - 20s 394us/step - loss: 0.0301 - val_loss: 0.0378\n",
      "Epoch 44/60\n",
      "51614/51614 [==============================] - 20s 394us/step - loss: 0.0307 - val_loss: 0.0349\n",
      "Epoch 45/60\n",
      "51614/51614 [==============================] - 22s 422us/step - loss: 0.0295 - val_loss: 0.0323\n",
      "Epoch 46/60\n",
      "51614/51614 [==============================] - 21s 402us/step - loss: 0.0293 - val_loss: 0.0320\n",
      "Epoch 47/60\n",
      "51614/51614 [==============================] - 20s 393us/step - loss: 0.0292 - val_loss: 0.0342\n",
      "Epoch 48/60\n",
      "51614/51614 [==============================] - 20s 395us/step - loss: 0.0295 - val_loss: 0.0347\n",
      "Epoch 49/60\n",
      "51614/51614 [==============================] - 20s 389us/step - loss: 0.0295 - val_loss: 0.0330\n",
      "Epoch 50/60\n",
      "51614/51614 [==============================] - 20s 388us/step - loss: 0.0290 - val_loss: 0.0332\n",
      "Epoch 51/60\n",
      "51614/51614 [==============================] - 20s 390us/step - loss: 0.0292 - val_loss: 0.0392\n",
      "Epoch 52/60\n",
      "51614/51614 [==============================] - 20s 388us/step - loss: 0.0289 - val_loss: 0.0320\n",
      "Epoch 53/60\n",
      "51614/51614 [==============================] - 20s 388us/step - loss: 0.0289 - val_loss: 0.0323\n",
      "Epoch 54/60\n",
      "51614/51614 [==============================] - 20s 388us/step - loss: 0.0284 - val_loss: 0.0325\n",
      "Epoch 55/60\n",
      "51614/51614 [==============================] - 20s 388us/step - loss: 0.0291 - val_loss: 0.0319\n",
      "Epoch 56/60\n",
      "51614/51614 [==============================] - 20s 388us/step - loss: 0.0285 - val_loss: 0.0332\n",
      "Epoch 57/60\n",
      "51614/51614 [==============================] - 20s 387us/step - loss: 0.0282 - val_loss: 0.0320\n",
      "Epoch 58/60\n",
      "51614/51614 [==============================] - 21s 403us/step - loss: 0.0283 - val_loss: 0.0314\n",
      "Epoch 59/60\n",
      "51614/51614 [==============================] - 20s 390us/step - loss: 0.0277 - val_loss: 0.0333\n",
      "Epoch 60/60\n",
      "51614/51614 [==============================] - 20s 396us/step - loss: 0.0276 - val_loss: 0.0318\n"
     ]
    }
   ],
   "source": [
    "EPOCHS = 60\n",
    "print(train_X.shape)\n",
    "print(train_y.shape)\n",
    "history = model.fit(train_X, train_y_mag, validation_split=0.1, epochs=EPOCHS) "
   ]
  },
  {
   "cell_type": "code",
   "execution_count": 10,
   "metadata": {},
   "outputs": [
    {
     "data": {
      "image/png": "[encoded data removed]",
      "text/plain": [
       "<Figure size 432x288 with 1 Axes>"
      ]
     },
     "metadata": {
      "needs_background": "light"
     },
     "output_type": "display_data"
    }
   ],
   "source": [
    "# Plot training & validation loss values\n",
    "plt.plot(history.history['loss'])\n",
    "plt.plot(history.history['val_loss'])\n",
    "plt.title('Model loss')\n",
    "plt.ylabel('Loss')\n",
    "plt.xlabel('Epoch')\n",
    "plt.legend(['Train', 'Test'], loc='upper right')\n",
    "plt.show()"
   ]
  },
  {
   "cell_type": "code",
   "execution_count": 18,
   "metadata": {},
   "outputs": [
    {
     "name": "stdout",
     "output_type": "stream",
     "text": [
      "9716/9716 [==============================] - 2s 178us/step\n",
      "0.03131265556550949\n",
      "57349/57349 [==============================] - 10s 180us/step\n",
      "0.02624676170059449\n"
     ]
    }
   ],
   "source": [
    "test_loss = model.evaluate(test_X, test_y_mag)\n",
    "print(test_loss)\n",
    "\n",
    "train_loss = model.evaluate(train_X, train_y_mag)\n",
    "print(train_loss)"
   ]
  },
  {
   "cell_type": "code",
   "execution_count": 19,
   "metadata": {},
   "outputs": [
    {
     "name": "stdout",
     "output_type": "stream",
     "text": [
      "Accuracy: 95.89623339085682\n"
     ]
    }
   ],
   "source": [
    "percentages = []\n",
    "for i in range(len(test_X)):\n",
    "    prediction = model.predict(np.reshape(test_X[i], (1, B, 10, 1)))\n",
    "    percentages.append(abs((prediction - test_y_mag[i]) / test_y_mag[i]) * 100)\n",
    "percentages = np.array(percentages)\n",
    "print(\"Accuracy:\", 100 - np.mean(percentages))"
   ]
  },
  {
   "cell_type": "code",
   "execution_count": null,
   "metadata": {},
   "outputs": [],
   "source": []
  }
 ],
 "metadata": {
  "kernelspec": {
   "display_name": "Python 3",
   "language": "python",
   "name": "python3"
  },
  "language_info": {
   "codemirror_mode": {
    "name": "ipython",
    "version": 3
   },
   "file_extension": ".py",
   "mimetype": "text/x-python",
   "name": "python",
   "nbconvert_exporter": "python",
   "pygments_lexer": "ipython3",
   "version": "3.6.8"
  }
 },
 "nbformat": 4,
 "nbformat_minor": 2
}
