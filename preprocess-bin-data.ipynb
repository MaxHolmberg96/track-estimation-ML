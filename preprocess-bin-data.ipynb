{
 "cells": [
  {
   "cell_type": "code",
   "execution_count": 1,
   "metadata": {},
   "outputs": [],
   "source": [
    "import os\n",
    "import numpy as np\n",
    "import pandas as pd\n",
    "from trackml.dataset import load_event\n",
    "from trackml.randomize import shuffle_hits\n",
    "from trackml.score import score_event\n",
    "from mpl_toolkits.mplot3d import Axes3D\n",
    "import seaborn as sns\n",
    "import matplotlib.pyplot as plt\n",
    "from hough import *\n",
    "from conformal_map import *\n",
    "from tqdm import tqdm\n",
    "\n",
    "%matplotlib inline"
   ]
  },
  {
   "cell_type": "code",
   "execution_count": 2,
   "metadata": {},
   "outputs": [],
   "source": [
    "B = 1000\n",
    "def convertTrackToImage(trackId):\n",
    "    first = True\n",
    "    imageBins = B\n",
    "    image = np.empty((imageBins, 0))\n",
    "    for volume in [8, 13, 17]:\n",
    "        #print(volume)\n",
    "        for layer in hits[hits.volume_id == volume].layer_id.unique():\n",
    "            #print(layer)\n",
    "            truthVol8 = truth.iloc[hits.index[(hits.volume_id == volume)].tolist()]\n",
    "            hitsVol8 = hits.iloc[hits.index[(hits.volume_id == volume)].tolist()]\n",
    "            t = truthVol8.loc[(hitsVol8.layer_id == layer) & (truthVol8.particle_id == trackId)]\n",
    "            r = np.power(t.tx, 2) + np.power(t.ty, 2)\n",
    "            theta = np.arctan(t.ty / t.tx)\n",
    "            #print(theta)\n",
    "            thetaRange = np.pi * 2\n",
    "            indicesFloat = (theta / thetaRange) * imageBins + imageBins / 2\n",
    "            #print(indicesFloat)\n",
    "            indices = np.array(list(map(int, indicesFloat)))\n",
    "            indices = np.reshape(indices, (len(indices), 1))\n",
    "            bins = np.zeros((imageBins, 1))\n",
    "            if first:\n",
    "                if len(indices) == 0:\n",
    "                    image = np.hstack([image, np.zeros((imageBins, 1))])\n",
    "                    continue\n",
    "                firstIndex = max(indices[0])\n",
    "                moveRange = firstIndex - imageBins // 2\n",
    "                first = False\n",
    "            indices = (indices - moveRange) % imageBins\n",
    "            for i, index in enumerate(indices):\n",
    "                bins[index, 0] += 1\n",
    "            image = np.hstack([image, bins])\n",
    "            #print(indices)\n",
    "    return image"
   ]
  },
  {
   "cell_type": "code",
   "execution_count": 3,
   "metadata": {},
   "outputs": [],
   "source": [
    "images = []\n",
    "train_y = np.empty((0, 2))\n",
    "train_y_mag = np.empty((0, 1))"
   ]
  },
  {
   "cell_type": "code",
   "execution_count": null,
   "metadata": {},
   "outputs": [],
   "source": [
    "for k in range(5):\n",
    "    print(\"round:\", k)\n",
    "    #if k < 10:\n",
    "      #  event_prefix = 'event00000101' + str(k)\n",
    "    #else:\n",
    "     #   event_prefix = 'event00000103' + str(k - 10)\n",
    "    event_prefix = 'event00000104' + str(k)\n",
    "    hits, cells, particles, truth = load_event(os.path.join('train_100_events', event_prefix))\n",
    "    cond = (hits['volume_id'] == 8) | (hits['volume_id'] == 13) | (hits['volume_id'] == 17)\n",
    "    selected_indices = hits.index[cond].tolist()\n",
    "    selected_hits = hits.iloc[selected_indices]\n",
    "    selected_truth = truth.iloc[selected_indices]\n",
    "    # Create training set with tracks that are minimum of 5 hits\n",
    "    tracks = selected_truth.particle_id.unique()\n",
    "    validTracks = []\n",
    "    for track in tracks:\n",
    "        if track == 0:\n",
    "            continue\n",
    "        numberHits = selected_truth[selected_truth.particle_id == track].shape[0]\n",
    "        t = selected_truth[selected_truth.particle_id == track]\n",
    "        if numberHits >= 11:\n",
    "            validTracks.append(track)\n",
    "\n",
    "    nr = len(validTracks)\n",
    "    for j in tqdm(range(nr)):\n",
    "        trackId = validTracks[j]\n",
    "        image = convertTrackToImage(trackId)\n",
    "        images.append(image)\n",
    "        #print(c)\n",
    "    # Create train_Y (the momentum)\n",
    "    for j, track in enumerate(validTracks[0:nr]):\n",
    "        track = validTracks[j]\n",
    "        if track == 0:\n",
    "            continue\n",
    "        t = selected_truth[selected_truth.particle_id == track]\n",
    "        px = t['tpx'].mean()\n",
    "        py = t['tpy'].mean()\n",
    "        p = np.sqrt(px**2 + py**2)\n",
    "        train_y = np.vstack([train_y, [px, py]])\n",
    "        train_y_mag = np.vstack([train_y_mag, [p]])"
   ]
  },
  {
   "cell_type": "code",
   "execution_count": null,
   "metadata": {},
   "outputs": [],
   "source": [
    "images_val = []\n",
    "train_y_val = np.empty((0, 2))\n",
    "train_y_val_mag = np.empty((0, 1))"
   ]
  },
  {
   "cell_type": "code",
   "execution_count": null,
   "metadata": {},
   "outputs": [],
   "source": [
    "for k in range(0, 10):\n",
    "    print(\"round:\", k)\n",
    "    event_prefix = 'event00000102' + str(k)\n",
    "    hits, cells, particles, truth = load_event(os.path.join('train_100_events', event_prefix))\n",
    "    cond = (hits['volume_id'] == 8) | (hits['volume_id'] == 13) | (hits['volume_id'] == 17)\n",
    "    selected_indices = hits.index[cond].tolist()\n",
    "    selected_hits = hits.iloc[selected_indices]\n",
    "    selected_truth = truth.iloc[selected_indices]\n",
    "    # Create training set with tracks that are minimum of 5 hits\n",
    "    tracks = selected_truth.particle_id.unique()\n",
    "    validTracks = []\n",
    "    for track in tracks:\n",
    "        if track == 0:\n",
    "            continue\n",
    "        numberHits = selected_truth[selected_truth.particle_id == track].shape[0]\n",
    "        t = selected_truth[selected_truth.particle_id == track]\n",
    "        if numberHits >= 12:\n",
    "            validTracks.append(track)\n",
    "\n",
    "    nr = len(validTracks)\n",
    "    for j in tqdm(range(nr)):\n",
    "        trackId = validTracks[j]\n",
    "        image = convertTrackToImage(trackId)\n",
    "        images_val.append(image)\n",
    "        #print(c)\n",
    "    # Create train_Y (the momentum)\n",
    "    for j, track in enumerate(validTracks[0:nr]):\n",
    "        if track == 0:\n",
    "            continue\n",
    "        t = selected_truth[selected_truth.particle_id == track]\n",
    "        px = t['tpx'].mean()\n",
    "        py = t['tpy'].mean()\n",
    "        #pz = t['tpz'].mean()\n",
    "        p = np.sqrt(px**2 + py**2) #+ pz**2)# / (0.3 * 0.001 * 2)\n",
    "        train_y_val_mag = np.vstack([train_y_val_mag, [p]])\n",
    "        train_y_val = np.vstack([train_y_val, [px, py]])"
   ]
  },
  {
   "cell_type": "code",
   "execution_count": null,
   "metadata": {},
   "outputs": [],
   "source": [
    "#train_y = np.reshape(train_y, (len(train_y), 2))\n",
    "#train_y_mag = np.reshape(train_y_mag, (len(train_y_mag), 1))\n",
    "#train_X = np.reshape(images, (len(images), B, 10, 1))\n",
    "\n",
    "#test_X = np.reshape(images_val, (len(images_val), B, 10, 1))\n",
    "#test_y = np.reshape(train_y_val, (len(train_y_val), 2))\n",
    "#test_y_mag = np.reshape(train_y_val_mag, (len(train_y_val_mag), 1))"
   ]
  },
  {
   "cell_type": "code",
   "execution_count": null,
   "metadata": {},
   "outputs": [],
   "source": [
    "#np.savez(\"\", X=train_X, y=train_y, y_mag=train_y_mag, X_test=test_X, y_mag_test=test_y_mag, y_test=test_y)"
   ]
  },
  {
   "cell_type": "code",
   "execution_count": null,
   "metadata": {},
   "outputs": [],
   "source": []
  }
 ],
 "metadata": {
  "kernelspec": {
   "display_name": "Python 3",
   "language": "python",
   "name": "python3"
  },
  "language_info": {
   "codemirror_mode": {
    "name": "ipython",
    "version": 3
   },
   "file_extension": ".py",
   "mimetype": "text/x-python",
   "name": "python",
   "nbconvert_exporter": "python",
   "pygments_lexer": "ipython3",
   "version": "3.6.8"
  }
 },
 "nbformat": 4,
 "nbformat_minor": 2
}
