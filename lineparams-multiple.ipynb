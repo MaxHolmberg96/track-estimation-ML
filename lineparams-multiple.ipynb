{
 "cells": [
  {
   "cell_type": "code",
   "execution_count": 1,
   "metadata": {},
   "outputs": [],
   "source": []
  },
  {
   "cell_type": "code",
   "execution_count": 2,
   "metadata": {},
   "outputs": [],
   "source": [
    "import os\n",
    "import numpy as np\n",
    "import pandas as pd\n",
    "from trackml.dataset import load_event\n",
    "from trackml.randomize import shuffle_hits\n",
    "from trackml.score import score_event\n",
    "from mpl_toolkits.mplot3d import Axes3D\n",
    "import seaborn as sns\n",
    "import matplotlib.pyplot as plt\n",
    "from hough import *\n",
    "from conformal_map import *\n",
    "import keras\n",
    "from keras.models import Sequential\n",
    "from keras.layers import Dense\n",
    "from keras import layers\n",
    "import tensorflow as tf\n",
    "\n",
    "%matplotlib inline"
   ]
  },
  {
   "cell_type": "code",
   "execution_count": 181,
   "metadata": {},
   "outputs": [],
   "source": [
    "import random\n",
    "\n",
    "train_X = []\n",
    "train_Y = np.zeros((N, 2, 2))\n",
    "dims = 50\n",
    "N = 10000\n",
    "for i in range(N):\n",
    "    image = np.zeros((dims, dims))\n",
    "    nr_lines = 2\n",
    "    for j in range(nr_lines):\n",
    "        k = random.uniform(-1, 1)\n",
    "        m = random.uniform(0, dims)\n",
    "        train_Y[i, j] = np.array([k, m])\n",
    "        for x in range(dims):\n",
    "            y = k * x + m\n",
    "            if 0 <= int(y) < dims:\n",
    "                image[x, int(y)] = 1\n",
    "    #for j in range(len(train_Y[-1]), 20):\n",
    "    #    train_Y[-1].append([-1, -1])\n",
    "    train_X.append(image)\n",
    "    train_Y[-1] = np.array(train_Y[-1])\n",
    "    \n",
    "train_X = np.reshape(train_X, (N, dims, dims, 1))\n",
    "train_Y = np.reshape(train_Y, (N, 2, 2))\n",
    "for i in range(N):\n",
    "    for j in range(2):\n",
    "        train_Y[i, j, 1] /= dims"
   ]
  },
  {
   "cell_type": "code",
   "execution_count": 182,
   "metadata": {},
   "outputs": [
    {
     "data": {
      "text/plain": [
       "<matplotlib.image.AxesImage at 0x1b334a232b0>"
      ]
     },
     "execution_count": 182,
     "metadata": {},
     "output_type": "execute_result"
    },
    {
     "data": {
      "image/png": "[encoded data removed]",
      "text/plain": [
       "<Figure size 432x288 with 1 Axes>"
      ]
     },
     "metadata": {
      "needs_background": "light"
     },
     "output_type": "display_data"
    }
   ],
   "source": [
    "plt.imshow(train_X[512].T.reshape((dims, dims)))"
   ]
  },
  {
   "cell_type": "code",
   "execution_count": 198,
   "metadata": {},
   "outputs": [],
   "source": [
    "def build_model():\n",
    "    model = Sequential() \n",
    "    model.add(layers.Conv2D(32, (3, 3), activation=\"relu\", input_shape=(dims, dims, 1)))\n",
    "    model.add(layers:)\n",
    "    model.add(layers.Conv2D(32, (3, 3), activation=\"relu\"))\n",
    "    model.add(layers.Flatten())\n",
    "    model.add(layers.Dense(20))\n",
    "    model.add(layers.RepeatVector(2))\n",
    "    model.add(layers.LSTM(2, return_sequences=True))\n",
    "    model.compile(loss='mae', optimizer='adam')\n",
    "    return model"
   ]
  },
  {
   "cell_type": "code",
   "execution_count": 199,
   "metadata": {},
   "outputs": [],
   "source": [
    "model = build_model()"
   ]
  },
  {
   "cell_type": "code",
   "execution_count": 200,
   "metadata": {},
   "outputs": [
    {
     "name": "stdout",
     "output_type": "stream",
     "text": [
      "Model: \"sequential_15\"\n",
      "_________________________________________________________________\n",
      "Layer (type)                 Output Shape              Param #   \n",
      "=================================================================\n",
      "conv2d_29 (Conv2D)           (None, 48, 48, 32)        320       \n",
      "_________________________________________________________________\n",
      "conv2d_30 (Conv2D)           (None, 46, 46, 32)        9248      \n",
      "_________________________________________________________________\n",
      "flatten_15 (Flatten)         (None, 67712)             0         \n",
      "_________________________________________________________________\n",
      "dense_15 (Dense)             (None, 400)               27085200  \n",
      "_________________________________________________________________\n",
      "repeat_vector_14 (RepeatVect (None, 2, 400)            0         \n",
      "_________________________________________________________________\n",
      "lstm_15 (LSTM)               (None, 2, 2)              3224      \n",
      "=================================================================\n",
      "Total params: 27,097,992\n",
      "Trainable params: 27,097,992\n",
      "Non-trainable params: 0\n",
      "_________________________________________________________________\n"
     ]
    }
   ],
   "source": [
    "model.summary()"
   ]
  },
  {
   "cell_type": "code",
   "execution_count": 201,
   "metadata": {},
   "outputs": [
    {
     "name": "stdout",
     "output_type": "stream",
     "text": [
      "[[-0.0054436  -0.0143396 ]\n",
      " [-0.01153168 -0.02328167]]\n",
      "[[-0.87292274  0.73180593]\n",
      " [ 0.20660614  0.94595338]]\n"
     ]
    }
   ],
   "source": [
    "example_batch = train_X[:20]\n",
    "example_result = model.predict(example_batch)\n",
    "print(example_result[6])\n",
    "print(train_Y[6])"
   ]
  },
  {
   "cell_type": "code",
   "execution_count": null,
   "metadata": {},
   "outputs": [],
   "source": [
    "EPOCHS = 50\n",
    "print(train_X.shape)\n",
    "print(train_Y.shape)\n",
    "history = model.fit(train_X, train_Y, batch_size=32, validation_split=0.1, epochs=EPOCHS)"
   ]
  },
  {
   "cell_type": "code",
   "execution_count": 162,
   "metadata": {},
   "outputs": [
    {
     "data": {
      "text/plain": [
       "[<matplotlib.lines.Line2D at 0x1b2c1464828>]"
      ]
     },
     "execution_count": 162,
     "metadata": {},
     "output_type": "execute_result"
    },
    {
     "data": {
      "image/png": "[encoded data removed]",
      "text/plain": [
       "<Figure size 432x288 with 1 Axes>"
      ]
     },
     "metadata": {
      "needs_background": "light"
     },
     "output_type": "display_data"
    }
   ],
   "source": [
    "plt.plot(history.history['val_loss'])"
   ]
  },
  {
   "cell_type": "code",
   "execution_count": 163,
   "metadata": {},
   "outputs": [
    {
     "name": "stdout",
     "output_type": "stream",
     "text": [
      "(10000, 50, 50, 1)\n",
      "[[0.64091945 0.23318224]\n",
      " [0.6826384  0.2201233 ]]\n",
      "[[0.87314654 0.47003618]\n",
      " [0.23411753 0.10014761]]\n"
     ]
    }
   ],
   "source": [
    "print(train_X.shape)\n",
    "prediction = model.predict(train_X)\n",
    "#print(prediction - train_Y)\n",
    "print(prediction[5])\n",
    "print(train_Y[5])"
   ]
  },
  {
   "cell_type": "code",
   "execution_count": 82,
   "metadata": {},
   "outputs": [
    {
     "name": "stdout",
     "output_type": "stream",
     "text": [
      "[[[nan nan]\n",
      "  [nan nan]\n",
      "  [nan nan]\n",
      "  [nan nan]\n",
      "  [nan nan]\n",
      "  [nan nan]\n",
      "  [nan nan]\n",
      "  [nan nan]\n",
      "  [nan nan]\n",
      "  [nan nan]\n",
      "  [nan nan]\n",
      "  [nan nan]\n",
      "  [nan nan]\n",
      "  [nan nan]\n",
      "  [nan nan]\n",
      "  [nan nan]\n",
      "  [nan nan]\n",
      "  [nan nan]\n",
      "  [nan nan]\n",
      "  [nan nan]]]\n"
     ]
    }
   ],
   "source": [
    "k = random.uniform(0, 1)\n",
    "m = random.uniform(0, 1)\n",
    "image = np.zeros((dims, dims))\n",
    "for x in range(dims):\n",
    "    y = k * x + m\n",
    "    image[x, int(y)] = 1\n",
    "    \n",
    "predicted_params = model.predict(np.array([np.reshape(image, (dims, dims, 1))]))\n",
    "print(predicted_params)"
   ]
  },
  {
   "cell_type": "markdown",
   "metadata": {},
   "source": [
    "## Real line"
   ]
  },
  {
   "cell_type": "code",
   "execution_count": 75,
   "metadata": {},
   "outputs": [
    {
     "data": {
      "image/png": "[encoded data removed]",
      "text/plain": [
       "<Figure size 288x288 with 1 Axes>"
      ]
     },
     "metadata": {
      "needs_background": "light"
     },
     "output_type": "display_data"
    }
   ],
   "source": [
    "plt.matshow(image)\n",
    "plt.show()"
   ]
  },
  {
   "cell_type": "markdown",
   "metadata": {},
   "source": [
    "## Predicted line\n"
   ]
  },
  {
   "cell_type": "code",
   "execution_count": 76,
   "metadata": {},
   "outputs": [
    {
     "ename": "TypeError",
     "evalue": "only size-1 arrays can be converted to Python scalars",
     "output_type": "error",
     "traceback": [
      "\u001b[0;31m---------------------------------------------------------------------------\u001b[0m",
      "\u001b[0;31mTypeError\u001b[0m                                 Traceback (most recent call last)",
      "\u001b[0;32m<ipython-input-76-ff4cf6a0a6d8>\u001b[0m in \u001b[0;36m<module>\u001b[0;34m\u001b[0m\n\u001b[1;32m      2\u001b[0m \u001b[0;32mfor\u001b[0m \u001b[0mx\u001b[0m \u001b[0;32min\u001b[0m \u001b[0mrange\u001b[0m\u001b[0;34m(\u001b[0m\u001b[0mdims\u001b[0m\u001b[0;34m)\u001b[0m\u001b[0;34m:\u001b[0m\u001b[0;34m\u001b[0m\u001b[0;34m\u001b[0m\u001b[0m\n\u001b[1;32m      3\u001b[0m     \u001b[0my\u001b[0m \u001b[0;34m=\u001b[0m \u001b[0mpredicted_params\u001b[0m\u001b[0;34m[\u001b[0m\u001b[0;36m0\u001b[0m\u001b[0;34m]\u001b[0m\u001b[0;34m[\u001b[0m\u001b[0;36m0\u001b[0m\u001b[0;34m]\u001b[0m \u001b[0;34m*\u001b[0m \u001b[0mx\u001b[0m \u001b[0;34m+\u001b[0m \u001b[0mpredicted_params\u001b[0m\u001b[0;34m[\u001b[0m\u001b[0;36m0\u001b[0m\u001b[0;34m]\u001b[0m\u001b[0;34m[\u001b[0m\u001b[0;36m1\u001b[0m\u001b[0;34m]\u001b[0m\u001b[0;34m\u001b[0m\u001b[0;34m\u001b[0m\u001b[0m\n\u001b[0;32m----> 4\u001b[0;31m     \u001b[0mpredicted_image\u001b[0m\u001b[0;34m[\u001b[0m\u001b[0mx\u001b[0m\u001b[0;34m,\u001b[0m \u001b[0mint\u001b[0m\u001b[0;34m(\u001b[0m\u001b[0my\u001b[0m\u001b[0;34m)\u001b[0m\u001b[0;34m]\u001b[0m \u001b[0;34m=\u001b[0m \u001b[0;36m1\u001b[0m\u001b[0;34m\u001b[0m\u001b[0;34m\u001b[0m\u001b[0m\n\u001b[0m\u001b[1;32m      5\u001b[0m \u001b[0mplt\u001b[0m\u001b[0;34m.\u001b[0m\u001b[0mmatshow\u001b[0m\u001b[0;34m(\u001b[0m\u001b[0mpredicted_image\u001b[0m\u001b[0;34m)\u001b[0m\u001b[0;34m\u001b[0m\u001b[0;34m\u001b[0m\u001b[0m\n\u001b[1;32m      6\u001b[0m \u001b[0mplt\u001b[0m\u001b[0;34m.\u001b[0m\u001b[0mshow\u001b[0m\u001b[0;34m(\u001b[0m\u001b[0;34m)\u001b[0m\u001b[0;34m\u001b[0m\u001b[0;34m\u001b[0m\u001b[0m\n",
      "\u001b[0;31mTypeError\u001b[0m: only size-1 arrays can be converted to Python scalars"
     ]
    }
   ],
   "source": [
    "predicted_image = np.zeros((dims, dims))\n",
    "for x in range(dims):\n",
    "    y = predicted_params[0][0] * x + predicted_params[0][1]\n",
    "    predicted_image[x, int(y)] = 1\n",
    "plt.matshow(predicted_image)\n",
    "plt.show()"
   ]
  },
  {
   "cell_type": "code",
   "execution_count": 174,
   "metadata": {},
   "outputs": [
    {
     "name": "stdout",
     "output_type": "stream",
     "text": [
      "Equation predicted from neural network: y = 0.41867995022983684x + 0.673239055540219\n"
     ]
    }
   ],
   "source": [
    "print(\"Equation predicted from neural network:\", \"y =\", str(k) + \"x\", \"+\", m)"
   ]
  },
  {
   "cell_type": "code",
   "execution_count": null,
   "metadata": {},
   "outputs": [],
   "source": []
  }
 ],
 "metadata": {
  "kernelspec": {
   "display_name": "Python 3",
   "language": "python",
   "name": "python3"
  }
 },
 "nbformat": 4,
 "nbformat_minor": 2
}
