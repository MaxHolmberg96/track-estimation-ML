{
 "cells": [
  {
   "cell_type": "code",
   "execution_count": 15,
   "metadata": {},
   "outputs": [],
   "source": [
    "# This notebook contains testing for predicting straight line parameters\n",
    "# Works like a charm... :)"
   ]
  },
  {
   "cell_type": "code",
   "execution_count": null,
   "metadata": {},
   "outputs": [],
   "source": [
    "import os\n",
    "import numpy as np\n",
    "import pandas as pd\n",
    "from trackml.dataset import load_event\n",
    "from trackml.randomize import shuffle_hits\n",
    "from trackml.score import score_event\n",
    "from mpl_toolkits.mplot3d import Axes3D\n",
    "import seaborn as sns\n",
    "import matplotlib.pyplot as plt\n",
    "from hough import *\n",
    "from conformalMap import *\n",
    "import keras\n",
    "from keras.models import Sequential\n",
    "from keras.layers import Dense\n",
    "from keras import layers\n",
    "import tensorflow as tf\n",
    "\n",
    "%matplotlib inline"
   ]
  },
  {
   "cell_type": "code",
   "execution_count": 155,
   "metadata": {},
   "outputs": [],
   "source": [
    "import random\n",
    "\n",
    "train_X = []\n",
    "train_Y = []\n",
    "dims = 50\n",
    "N = 10000\n",
    "for i in range(N):\n",
    "    k = random.uniform(0, 1)\n",
    "    m = random.uniform(0, 1)\n",
    "    train_Y.append([k, m])\n",
    "    image = np.zeros((dims, dims))\n",
    "    for x in range(dims):\n",
    "        y = k * x + m\n",
    "        image[x, int(y)] = 1\n",
    "    train_X.append(image)\n",
    "\n",
    "train_X = np.reshape(train_X, (N, dims, dims, 1))\n",
    "train_Y = np.reshape(train_Y, (N, 2))"
   ]
  },
  {
   "cell_type": "code",
   "execution_count": 156,
   "metadata": {},
   "outputs": [],
   "source": [
    "def build_model():\n",
    "  model = keras.Sequential([\n",
    "    layers.Conv2D(8, (3, 3), activation=\"relu\", input_shape=(dims, dims, 1)),\n",
    "    layers.Conv2D(8, (3, 3), activation=\"relu\"),\n",
    "    layers.MaxPooling2D(pool_size=(2, 2)),\n",
    "    layers.Conv2D(16, (3, 3), activation=\"relu\"),\n",
    "    layers.Conv2D(16, (3, 3), activation=\"relu\"),\n",
    "    layers.Flatten(),\n",
    "    layers.Dense(2)\n",
    "  ])\n",
    "\n",
    "  #optimizer = keras.optimizers.RMSprop(learning_rate=0.00001) #0.00001 works good\n",
    "  model.compile(loss='mse', optimizer='adam')\n",
    "  return model"
   ]
  },
  {
   "cell_type": "code",
   "execution_count": 157,
   "metadata": {},
   "outputs": [],
   "source": [
    "model = build_model()"
   ]
  },
  {
   "cell_type": "code",
   "execution_count": 158,
   "metadata": {},
   "outputs": [
    {
     "name": "stdout",
     "output_type": "stream",
     "text": [
      "_________________________________________________________________\n",
      "Layer (type)                 Output Shape              Param #   \n",
      "=================================================================\n",
      "conv2d_73 (Conv2D)           (None, 48, 48, 8)         80        \n",
      "_________________________________________________________________\n",
      "conv2d_74 (Conv2D)           (None, 46, 46, 8)         584       \n",
      "_________________________________________________________________\n",
      "max_pooling2d_19 (MaxPooling (None, 23, 23, 8)         0         \n",
      "_________________________________________________________________\n",
      "conv2d_75 (Conv2D)           (None, 21, 21, 16)        1168      \n",
      "_________________________________________________________________\n",
      "conv2d_76 (Conv2D)           (None, 19, 19, 16)        2320      \n",
      "_________________________________________________________________\n",
      "flatten_19 (Flatten)         (None, 5776)              0         \n",
      "_________________________________________________________________\n",
      "dense_19 (Dense)             (None, 2)                 11554     \n",
      "=================================================================\n",
      "Total params: 15,706\n",
      "Trainable params: 15,706\n",
      "Non-trainable params: 0\n",
      "_________________________________________________________________\n"
     ]
    }
   ],
   "source": [
    "model.summary()"
   ]
  },
  {
   "cell_type": "code",
   "execution_count": 159,
   "metadata": {},
   "outputs": [],
   "source": [
    "#example_batch = train_X[:1]\n",
    "#example_result = model.predict(example_batch)\n",
    "#example_result"
   ]
  },
  {
   "cell_type": "code",
   "execution_count": 160,
   "metadata": {},
   "outputs": [
    {
     "name": "stdout",
     "output_type": "stream",
     "text": [
      "(10000, 50, 50, 1)\n",
      "(10000, 2)\n",
      "Train on 9000 samples, validate on 1000 samples\n",
      "Epoch 1/1\n",
      "9000/9000 [==============================] - 9s 985us/step - loss: 0.0423 - val_loss: 0.0283\n"
     ]
    }
   ],
   "source": [
    "EPOCHS = 1\n",
    "print(train_X.shape)\n",
    "print(train_Y.shape)\n",
    "history = model.fit(train_X, train_Y, validation_split=0.1, epochs=EPOCHS)"
   ]
  },
  {
   "cell_type": "code",
   "execution_count": 161,
   "metadata": {},
   "outputs": [
    {
     "name": "stdout",
     "output_type": "stream",
     "text": [
      "(10000, 50, 50, 1)\n",
      "[[0.02979961 0.58398056]\n",
      " [0.7140066  0.6966057 ]\n",
      " [0.73253703 0.75247556]\n",
      " ...\n",
      " [0.210651   0.41628855]\n",
      " [0.48325822 0.38517833]\n",
      " [0.9129564  0.6463789 ]]\n",
      "[[0.03084216 0.74953181]\n",
      " [0.74717997 0.75256234]\n",
      " [0.73355204 0.97153438]\n",
      " ...\n",
      " [0.22981527 0.07144909]\n",
      " [0.51362015 0.3909448 ]\n",
      " [0.96228801 0.43532982]]\n"
     ]
    }
   ],
   "source": [
    "print(train_X.shape)\n",
    "prediction = model.predict(train_X)\n",
    "#print(prediction - train_Y)\n",
    "print(prediction)\n",
    "print(train_Y)"
   ]
  },
  {
   "cell_type": "code",
   "execution_count": 171,
   "metadata": {},
   "outputs": [
    {
     "name": "stdout",
     "output_type": "stream",
     "text": [
      "[[0.44019714 0.48583636]]\n"
     ]
    }
   ],
   "source": [
    "k = random.uniform(0, 1)\n",
    "m = random.uniform(0, 1)\n",
    "image = np.zeros((dims, dims))\n",
    "for x in range(dims):\n",
    "    y = k * x + m\n",
    "    image[x, int(y)] = 1\n",
    "    \n",
    "predicted_params = model.predict(np.array([np.reshape(image, (dims, dims, 1))]))\n",
    "print(predicted_params)"
   ]
  },
  {
   "cell_type": "markdown",
   "metadata": {},
   "source": [
    "## Real line"
   ]
  },
  {
   "cell_type": "code",
   "execution_count": 172,
   "metadata": {},
   "outputs": [
    {
     "data": {
      "image/png": "[encoded data removed]",
      "text/plain": [
       "<Figure size 288x288 with 1 Axes>"
      ]
     },
     "metadata": {
      "needs_background": "light"
     },
     "output_type": "display_data"
    }
   ],
   "source": [
    "plt.matshow(image)\n",
    "plt.show()"
   ]
  },
  {
   "cell_type": "markdown",
   "metadata": {},
   "source": [
    "## Predicted line\n"
   ]
  },
  {
   "cell_type": "code",
   "execution_count": 173,
   "metadata": {},
   "outputs": [
    {
     "data": {
      "image/png": "[encoded data removed]",
      "text/plain": [
       "<Figure size 288x288 with 1 Axes>"
      ]
     },
     "metadata": {
      "needs_background": "light"
     },
     "output_type": "display_data"
    }
   ],
   "source": [
    "predicted_image = np.zeros((dims, dims))\n",
    "for x in range(dims):\n",
    "    y = predicted_params[0][0] * x + predicted_params[0][1]\n",
    "    predicted_image[x, int(y)] = 1\n",
    "plt.matshow(predicted_image)\n",
    "plt.show()"
   ]
  },
  {
   "cell_type": "code",
   "execution_count": 174,
   "metadata": {},
   "outputs": [
    {
     "name": "stdout",
     "output_type": "stream",
     "text": [
      "Equation predicted from neural network: y = 0.41867995022983684x + 0.673239055540219\n"
     ]
    }
   ],
   "source": [
    "print(\"Equation predicted from neural network:\", \"y =\", str(k) + \"x\", \"+\", m)"
   ]
  },
  {
   "cell_type": "code",
   "execution_count": null,
   "metadata": {},
   "outputs": [],
   "source": []
  }
 ],
 "metadata": {
  "kernelspec": {
   "display_name": "Python 3",
   "language": "python",
   "name": "python3"
  },
  "language_info": {
   "codemirror_mode": {
    "name": "ipython",
    "version": 3
   },
   "file_extension": ".py",
   "mimetype": "text/x-python",
   "name": "python",
   "nbconvert_exporter": "python",
   "pygments_lexer": "ipython3",
   "version": "3.6.8"
  }
 },
 "nbformat": 4,
 "nbformat_minor": 2
}
